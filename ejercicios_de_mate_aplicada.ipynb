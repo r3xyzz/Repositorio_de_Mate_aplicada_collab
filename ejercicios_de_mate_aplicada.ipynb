{
  "nbformat": 4,
  "nbformat_minor": 0,
  "metadata": {
    "colab": {
      "provenance": [],
      "include_colab_link": true
    },
    "kernelspec": {
      "name": "python3",
      "display_name": "Python 3"
    },
    "language_info": {
      "name": "python"
    }
  },
  "cells": [
    {
      "cell_type": "markdown",
      "metadata": {
        "id": "view-in-github",
        "colab_type": "text"
      },
      "source": [
        "<a href=\"https://colab.research.google.com/github/r3xyzz/Repositorio_de_Mate_aplicada_collab/blob/main/ejercicios_de_mate_aplicada.ipynb\" target=\"_parent\"><img src=\"https://colab.research.google.com/assets/colab-badge.svg\" alt=\"Open In Colab\"/></a>"
      ]
    },
    {
      "cell_type": "code",
      "execution_count": null,
      "metadata": {
        "colab": {
          "base_uri": "https://localhost:8080/"
        },
        "id": "YG4J0Ub6keWP",
        "outputId": "135a02a3-0e2d-41d1-d3fa-74945036c740"
      },
      "outputs": [
        {
          "output_type": "stream",
          "name": "stdout",
          "text": [
            "los terminos son: A10 = 0.1\n",
            "los terminos son: A100 = 0.01\n",
            "los terminos son: A1000 = 0.001\n",
            "los terminos son: A10000 = 0.0001\n",
            "los terminos son: A100000 = 1e-05\n"
          ]
        }
      ],
      "source": [
        "# P5\n",
        "\n",
        "def cal_termino(n):\n",
        "  return 1 / n\n",
        "\n",
        "terminos = [10, 100, 1000, 10000, 100000]\n",
        "\n",
        "for n in terminos:\n",
        "  termino = cal_termino(n)\n",
        "  print(f\"los terminos son: A{n} = {termino}\")\n",
        "\n",
        "'''toma una lista de números y devuelve una lista de los términos correspondientes de la sucesión.'''"
      ]
    },
    {
      "cell_type": "code",
      "source": [
        "# P6\n",
        "\n",
        "import math\n",
        "\n",
        "def cal_terminos_B(numeros):\n",
        "  terminos = []\n",
        "  for n in numeros:\n",
        "    termino = (1 + 1 / n)**n\n",
        "    terminos.append(termino)\n",
        "  return terminos\n",
        "\n",
        "numeros = [10, 100, 1000, 10000, 100000]\n",
        "\n",
        "termino_calculado_B = cal_terminos_B(numeros)\n",
        "\n",
        "for i, n in enumerate(numeros):\n",
        "  print(f\"los terminos son: B_{n} = {termino_calculado_B[i]}\")\n",
        "\n",
        "'''para calcular los términos de la sucesión Luego, se crea una lista numeros\n",
        "con los valores que mencionaste y se calculan los términos utilizando la función.\n",
        "Finalmente, se itera sobre la lista numeros y se\n",
        "imprime cada término calculado junto con su índice correspondiente.'''"
      ],
      "metadata": {
        "colab": {
          "base_uri": "https://localhost:8080/"
        },
        "id": "dvj9vFoOrPRe",
        "outputId": "9a770128-585c-4752-a525-1f45fbd907ac"
      },
      "execution_count": null,
      "outputs": [
        {
          "output_type": "stream",
          "name": "stdout",
          "text": [
            "los terminos son: B_10 = 2.5937424601000023\n",
            "los terminos son: B_100 = 2.7048138294215285\n",
            "los terminos son: B_1000 = 2.7169239322355936\n",
            "los terminos son: B_10000 = 2.7181459268249255\n",
            "los terminos son: B_100000 = 2.7182682371922975\n"
          ]
        }
      ]
    },
    {
      "cell_type": "code",
      "source": [
        "# P6 (hoja de ejercicio ejemplo)\n",
        "\n",
        "b=[]\n",
        "for i in range (5):\n",
        "  n=10**(i+1)\n",
        "  b.append((1+1/n)**n)\n",
        "  print (f'b({n})=',b[i])"
      ],
      "metadata": {
        "colab": {
          "base_uri": "https://localhost:8080/"
        },
        "id": "H5wxHcj0srH-",
        "outputId": "dde1668a-42f0-4be0-98aa-a5d4d78bca29"
      },
      "execution_count": null,
      "outputs": [
        {
          "output_type": "stream",
          "name": "stdout",
          "text": [
            "b(10)= 2.5937424601000023\n",
            "b(100)= 2.7048138294215285\n",
            "b(1000)= 2.7169239322355936\n",
            "b(10000)= 2.7181459268249255\n",
            "b(100000)= 2.7182682371922975\n"
          ]
        }
      ]
    },
    {
      "cell_type": "code",
      "source": [
        "# P7\n",
        "\n"
      ],
      "metadata": {
        "id": "rNMT6x13tFD3"
      },
      "execution_count": null,
      "outputs": []
    }
  ]
}