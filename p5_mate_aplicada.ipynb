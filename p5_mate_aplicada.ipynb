{
  "nbformat": 4,
  "nbformat_minor": 0,
  "metadata": {
    "colab": {
      "provenance": [],
      "authorship_tag": "ABX9TyMnJzwtRiYZutxHWbwQHSXM",
      "include_colab_link": true
    },
    "kernelspec": {
      "name": "python3",
      "display_name": "Python 3"
    },
    "language_info": {
      "name": "python"
    }
  },
  "cells": [
    {
      "cell_type": "markdown",
      "metadata": {
        "id": "view-in-github",
        "colab_type": "text"
      },
      "source": [
        "<a href=\"https://colab.research.google.com/github/r3xyzz/Repositorio_de_Mate_aplicada_collab/blob/main/p5_mate_aplicada.ipynb\" target=\"_parent\"><img src=\"https://colab.research.google.com/assets/colab-badge.svg\" alt=\"Open In Colab\"/></a>"
      ]
    },
    {
      "cell_type": "code",
      "execution_count": 4,
      "metadata": {
        "colab": {
          "base_uri": "https://localhost:8080/"
        },
        "id": "YG4J0Ub6keWP",
        "outputId": "6def3de5-f8e4-401f-d1dd-45491c612600"
      },
      "outputs": [
        {
          "output_type": "stream",
          "name": "stdout",
          "text": [
            "A_10 = 0.1\n",
            "A_100 = 0.01\n",
            "A_1000 = 0.001\n",
            "A_10000 = 0.0001\n",
            "A_100000 = 1e-05\n"
          ]
        }
      ],
      "source": [
        "#P5\n",
        "\n",
        "def cal_termino(n):\n",
        "  return 1 / n\n",
        "\n",
        "terminos = [10, 100, 1000, 10000, 100000]\n",
        "\n",
        "for n in terminos:\n",
        "  termino = cal_termino(n)\n",
        "  print(f\"A{n} = {termino}\")\n",
        "\n",
        "#toma una lista de números y devuelve una lista de los términos correspondientes de la sucesión."
      ]
    }
  ]
}